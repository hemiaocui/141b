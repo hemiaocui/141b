{
 "cells": [
  {
   "cell_type": "markdown",
   "metadata": {},
   "source": [
    "# STA 141B: Homework 1\n",
    "Winter 2018"
   ]
  },
  {
   "cell_type": "markdown",
   "metadata": {},
   "source": [
    "## Instructions\n",
    "\n",
    "We use a script that extracts your answers by looking for cells in between the cells containing the exercise statements.  So you \n",
    "\n",
    "- MUST add cells in between the exercise statements and add answers within them and\n",
    "- MUST NOT modify the existing cells, particularly not the problem statement\n",
    "\n",
    "To make markdown, please switch the cell type to markdown (from code) - you can hit 'm' when you are in command mode - and use the markdown language.  For a brief tutorial see: https://daringfireball.net/projects/markdown/syntax\n"
   ]
  },
  {
   "cell_type": "markdown",
   "metadata": {
    "name": "fill1"
   },
   "source": [
    "## Part 1: The Doomsday Algorithm\n",
    "\n",
    "The Doomsday algorithm, devised by mathematician J. H. Conway, computes the day of the week any given date fell on. The algorithm is designed to be simple enough to memorize and use for mental calculation.\n",
    "\n",
    "__Example.__ With the algorithm, we can compute that July 4, 1776 (the day the United States declared independence from Great Britain) was a Thursday.\n",
    "\n",
    "The algorithm is based on the fact that for any year, several dates always fall on the same day of the week, called the <em style=\"color:#F00\">doomsday</em> for the year. These dates include 4/4, 6/6, 8/8, 10/10, and 12/12.\n",
    "\n",
    "__Example.__ The doomsday for 2016 is Monday, so in 2016 the dates above all fell on Mondays. The doomsday for 2017 is Tuesday, so in 2017 the dates above will all fall on Tuesdays.\n",
    "\n",
    "The doomsday algorithm has three major steps:\n",
    "\n",
    "1. Compute the anchor day for the target century.\n",
    "2. Compute the doomsday for the target year based on the anchor day.\n",
    "3. Determine the day of week for the target date by counting the number of days to the nearest doomsday.\n",
    "\n",
    "Each step is explained in detail below."
   ]
  },
  {
   "cell_type": "markdown",
   "metadata": {
    "name": "ex1.1"
   },
   "source": [
    "### The Anchor Day\n",
    "\n",
    "The doomsday for the first year in a century is called the <em style=\"color:#F00\">anchor day</em> for that century. The anchor day is needed to compute the doomsday for any other year in that century. The anchor day for a century $c$ can be computed with the formula:\n",
    "$$\n",
    "a = \\bigl( 5 (c \\bmod 4) + 2 \\bigr) \\bmod 7\n",
    "$$\n",
    "The result $a$ corresponds to a day of the week, starting with $0$ for Sunday and ending with $6$ for Saturday.\n",
    "\n",
    "__Note.__ The modulo operation $(x \\bmod y)$ finds the remainder after dividing $x$ by $y$. For instance, $12 \\bmod 3 = 0$ since the remainder after dividing $12$ by $3$ is $0$. Similarly, $11 \\bmod 7 = 4$, since the remainder after dividing $11$ by $7$ is $4$.\n",
    "\n",
    "__Example.__ Suppose the target year is 1954, so the century is $c = 19$. Plugging this into the formula gives\n",
    "$$a = \\bigl( 5 (19 \\bmod 4) + 2 \\bigr) \\bmod 7 = \\bigl( 5(3) + 2 \\bigr) \\bmod 7 = 3.$$\n",
    "In other words, the anchor day for 1900-1999 is Wednesday, which is also the doomsday for 1900.\n",
    "\n",
    "__Exercise 1.1.__ Write a function that accepts a year as input and computes the anchor day for that year's century. The modulo operator `%` and functions in the `math` module may be useful. Document your function with a docstring and test your function for a few different years.  Do this in a new cell below this one."
   ]
  },
  {
   "cell_type": "code",
   "execution_count": 268,
   "metadata": {},
   "outputs": [
    {
     "data": {
      "text/plain": [
       "3"
      ]
     },
     "execution_count": 268,
     "metadata": {},
     "output_type": "execute_result"
    }
   ],
   "source": [
    "def anchorday(year):#how to get three \" for docstring;indentation for docstring; \n",
    "    c=int(str(year)[0]+str(year)[1])\n",
    "    a=(5*(c%4)+2)%7\n",
    "    return a\n",
    "\"\"\"this function takes in a year and returns anchorday\"\"\"\n",
    "anchorday(year=1999)"
   ]
  },
  {
   "cell_type": "markdown",
   "metadata": {
    "name": "ex1.2"
   },
   "source": [
    "### The Doomsday\n",
    "\n",
    "Once the anchor day is known, let $y$ be the last two digits of the target year. Then the doomsday for the target year can be computed with the formula:\n",
    "$$d = \\left(y + \\left\\lfloor\\frac{y}{4}\\right\\rfloor + a\\right) \\bmod 7$$\n",
    "The result $d$ corresponds to a day of the week.\n",
    "\n",
    "__Note.__ The floor operation $\\lfloor x \\rfloor$ rounds $x$ down to the nearest integer. For instance, $\\lfloor 3.1 \\rfloor = 3$ and $\\lfloor 3.8 \\rfloor = 3$.\n",
    "\n",
    "__Example.__ Again suppose the target year is 1954. Then the anchor day is $a = 3$, and $y = 54$, so the formula gives\n",
    "$$\n",
    "d = \\left(54 + \\left\\lfloor\\frac{54}{4}\\right\\rfloor + 3\\right) \\bmod 7 = (54 + 13 + 3) \\bmod 7 = 0.\n",
    "$$\n",
    "Thus the doomsday for 1954 is Sunday.\n",
    "\n",
    "__Exercise 1.2.__ Write a function that accepts a year as input and computes the doomsday for that year. Your function may need to call the function you wrote in exercise 1.1. Make sure to document and test your function."
   ]
  },
  {
   "cell_type": "code",
   "execution_count": 269,
   "metadata": {},
   "outputs": [
    {
     "data": {
      "text/plain": [
       "0"
      ]
     },
     "execution_count": 269,
     "metadata": {},
     "output_type": "execute_result"
    }
   ],
   "source": [
    "import math #convert float to int?\n",
    "def doomsday(year): \n",
    "    y=int(str(year)[-2]+str(year)[-1])\n",
    "    d=(y+int(math.floor(y/4))+anchorday(year))%7\n",
    "    return d   \n",
    "doomsday(\"1999\")   "
   ]
  },
  {
   "cell_type": "markdown",
   "metadata": {
    "name": "ex1.3"
   },
   "source": [
    "### The Day of Week\n",
    "\n",
    "The final step in the Doomsday algorithm is to count the number of days between the target date and a nearby doomsday, modulo 7. This gives the day of the week.\n",
    "\n",
    "Every month has at least one doomsday:\n",
    "* (regular years) 1/10, 2/28\n",
    "* (leap years) 1/11, 2/29\n",
    "* 3/21, 4/4, 5/9, 6/6, 7/11, 8/8, 9/5, 10/10, 11/7, 12/12\n",
    "\n",
    "__Example.__ Suppose we want to find the day of the week for 7/21/1954. The doomsday for 1954 is Sunday, and a nearby doomsday is 7/11. There are 10 days in July between 7/11 and 7/21. Since $10 \\bmod 7 = 3$, the date 7/21/1954 falls 3 days after a Sunday, on a Wednesday.\n",
    "\n",
    "__Exercise 1.3.__ Write a function to determine the day of the week for a given day, month, and year. Be careful of leap years! Your function should return a string such as \"Thursday\" rather than a number. As usual, document and test your code."
   ]
  },
  {
   "cell_type": "code",
   "execution_count": 253,
   "metadata": {},
   "outputs": [
    {
     "data": {
      "text/plain": [
       "'Wed'"
      ]
     },
     "execution_count": 253,
     "metadata": {},
     "output_type": "execute_result"
    }
   ],
   "source": [
    "def dayofweek(month,day,year): #consider next year's doomsday if that is closer? \n",
    "    week=[\"Sun\",\"Mon\",\"Tue\",\"Wed\",\"Thu\",\"Fri\",\"Sat\"]\n",
    "    allmonth=[1,2,3,4,5,6,7,8,9,10,11,12]\n",
    "    doomsd1={'1':10,'2':28,'3':21,'4':4,'5':9,'6':6,'7':11,'8':8,'9':5,'10':10,'11':7,'12':12}\n",
    "    doomsd2={'1':11,'2':29,'3':21,'4':4,'5':9,'6':6,'7':11,'8':8,'9':5,'10':10,'11':7,'12':12}\n",
    "    monthlength1={'1':31,'2':28,'3':31,'4':30,'5':31,'6':30,'7':31,'8':31,'9':30,'10':31,'11':30,'12':31}\n",
    "    monthlength2={'1':31,'2':29,'3':31,'4':30,'5':31,'6':30,'7':31,'8':31,'9':30,'10':31,'11':30,'12':31}\n",
    "    if (year%4==0 and not year%100==0) or (year%400==0):\n",
    "        yearflag=True\n",
    "    else:\n",
    "        yearflag=False    \n",
    "    if yearflag==True:\n",
    "        if month==1:\n",
    "            daysoff=min(abs(doomsd2[str(month)]-day), monthlength2[str(month)]-day+doomsd2[str(month+1)],monthlength2[str(12)]-doomsd2[str(12)]+day)\n",
    "        elif month==12:\n",
    "            daysoff=min(abs(doomsd2[str(month)]-day), monthlength2[str(month)]-day+doomsd2[str(1)],monthlength2[str(month-1)]-doomsd2[str(month-1)]+day)\n",
    "        else:\n",
    "            daysoff=min(abs(doomsd2[str(month)]-day), monthlength2[str(month)]-day+doomsd2[str(month+1)],monthlength2[str(month-1)]-doomsd2[str(month-1)]+day)\n",
    "    if yearflag==False:\n",
    "        if month==1:\n",
    "            daysoff=min(abs(doomsd1[str(month)]-day), monthlength1[str(month)]-day+doomsd1[str(month+1)],monthlength1[str(12)]-doomsd1[str(12)]+day)\n",
    "        elif month==12:\n",
    "            daysoff=min(abs(doomsd1[str(month)]-day), monthlength1[str(month)]-day+doomsd1[str(1)],monthlength1[str(month-1)]-doomsd1[str(month-1)]+day)\n",
    "        else:\n",
    "            daysoff=min(abs(doomsd1[str(month)]-day), monthlength1[str(month)]-day+doomsd1[str(month+1)],monthlength1[str(month-1)]-doomsd1[str(month-1)]+day)\n",
    "    return week[doomsday(year)+daysoff%7]\n",
    "dayofweek(7,21,1954)\n",
    "dayofweek(1,13,1999)\n",
    "    "
   ]
  },
  {
   "cell_type": "markdown",
   "metadata": {
    "name": "ex1.4"
   },
   "source": [
    "__Exercise 1.4.__ How many times did Friday the 13th occur in the years 1900-1999? Does this number seem to be similar to other centuries?"
   ]
  },
  {
   "cell_type": "code",
   "execution_count": 271,
   "metadata": {
    "scrolled": true
   },
   "outputs": [
    {
     "ename": "IndexError",
     "evalue": "list index out of range",
     "output_type": "error",
     "traceback": [
      "\u001b[1;31m---------------------------------------------------------------------------\u001b[0m",
      "\u001b[1;31mIndexError\u001b[0m                                Traceback (most recent call last)",
      "\u001b[1;32m<ipython-input-271-b29b3231fcb4>\u001b[0m in \u001b[0;36m<module>\u001b[1;34m()\u001b[0m\n\u001b[0;32m      1\u001b[0m \u001b[0mallmonth\u001b[0m\u001b[1;33m=\u001b[0m\u001b[1;33m[\u001b[0m\u001b[1;36m1\u001b[0m\u001b[1;33m,\u001b[0m\u001b[1;36m2\u001b[0m\u001b[1;33m,\u001b[0m\u001b[1;36m3\u001b[0m\u001b[1;33m,\u001b[0m\u001b[1;36m4\u001b[0m\u001b[1;33m,\u001b[0m\u001b[1;36m5\u001b[0m\u001b[1;33m,\u001b[0m\u001b[1;36m6\u001b[0m\u001b[1;33m,\u001b[0m\u001b[1;36m7\u001b[0m\u001b[1;33m,\u001b[0m\u001b[1;36m8\u001b[0m\u001b[1;33m,\u001b[0m\u001b[1;36m9\u001b[0m\u001b[1;33m,\u001b[0m\u001b[1;36m10\u001b[0m\u001b[1;33m,\u001b[0m\u001b[1;36m11\u001b[0m\u001b[1;33m,\u001b[0m\u001b[1;36m12\u001b[0m\u001b[1;33m]\u001b[0m\u001b[1;33m\u001b[0m\u001b[0m\n\u001b[0;32m      2\u001b[0m \u001b[0mallyear\u001b[0m\u001b[1;33m=\u001b[0m\u001b[0mrange\u001b[0m\u001b[1;33m(\u001b[0m\u001b[1;36m1990\u001b[0m\u001b[1;33m,\u001b[0m\u001b[1;36m1999\u001b[0m\u001b[1;33m)\u001b[0m\u001b[1;33m\u001b[0m\u001b[0m\n\u001b[1;32m----> 3\u001b[1;33m \u001b[1;33m[\u001b[0m\u001b[1;33m[\u001b[0m\u001b[0mdayofweek\u001b[0m\u001b[1;33m(\u001b[0m\u001b[0mitem\u001b[0m\u001b[1;33m,\u001b[0m\u001b[1;36m13\u001b[0m\u001b[1;33m,\u001b[0m\u001b[0mitem2\u001b[0m\u001b[1;33m)\u001b[0m\u001b[1;32mfor\u001b[0m \u001b[0mitem\u001b[0m \u001b[1;32min\u001b[0m \u001b[0mallmonth\u001b[0m\u001b[1;33m]\u001b[0m\u001b[1;32mfor\u001b[0m \u001b[0mitem2\u001b[0m \u001b[1;32min\u001b[0m \u001b[0mallyear\u001b[0m\u001b[1;33m]\u001b[0m \u001b[1;31m#why cannot be a space between ) and for?\u001b[0m\u001b[1;33m\u001b[0m\u001b[0m\n\u001b[0m\u001b[0;32m      4\u001b[0m \u001b[1;31m#[dayofweek(item,13,1999)for item in allmonth].count('Fri')\u001b[0m\u001b[1;33m\u001b[0m\u001b[1;33m\u001b[0m\u001b[0m\n\u001b[0;32m      5\u001b[0m \u001b[1;31m#othercenturies=[range(1600,)]\u001b[0m\u001b[1;33m\u001b[0m\u001b[1;33m\u001b[0m\u001b[0m\n",
      "\u001b[1;32m<ipython-input-253-189cfeefb543>\u001b[0m in \u001b[0;36mdayofweek\u001b[1;34m(month, day, year)\u001b[0m\n\u001b[0;32m     24\u001b[0m         \u001b[1;32melse\u001b[0m\u001b[1;33m:\u001b[0m\u001b[1;33m\u001b[0m\u001b[0m\n\u001b[0;32m     25\u001b[0m             \u001b[0mdaysoff\u001b[0m\u001b[1;33m=\u001b[0m\u001b[0mmin\u001b[0m\u001b[1;33m(\u001b[0m\u001b[0mabs\u001b[0m\u001b[1;33m(\u001b[0m\u001b[0mdoomsd1\u001b[0m\u001b[1;33m[\u001b[0m\u001b[0mstr\u001b[0m\u001b[1;33m(\u001b[0m\u001b[0mmonth\u001b[0m\u001b[1;33m)\u001b[0m\u001b[1;33m]\u001b[0m\u001b[1;33m-\u001b[0m\u001b[0mday\u001b[0m\u001b[1;33m)\u001b[0m\u001b[1;33m,\u001b[0m \u001b[0mmonthlength1\u001b[0m\u001b[1;33m[\u001b[0m\u001b[0mstr\u001b[0m\u001b[1;33m(\u001b[0m\u001b[0mmonth\u001b[0m\u001b[1;33m)\u001b[0m\u001b[1;33m]\u001b[0m\u001b[1;33m-\u001b[0m\u001b[0mday\u001b[0m\u001b[1;33m+\u001b[0m\u001b[0mdoomsd1\u001b[0m\u001b[1;33m[\u001b[0m\u001b[0mstr\u001b[0m\u001b[1;33m(\u001b[0m\u001b[0mmonth\u001b[0m\u001b[1;33m+\u001b[0m\u001b[1;36m1\u001b[0m\u001b[1;33m)\u001b[0m\u001b[1;33m]\u001b[0m\u001b[1;33m,\u001b[0m\u001b[0mmonthlength1\u001b[0m\u001b[1;33m[\u001b[0m\u001b[0mstr\u001b[0m\u001b[1;33m(\u001b[0m\u001b[0mmonth\u001b[0m\u001b[1;33m-\u001b[0m\u001b[1;36m1\u001b[0m\u001b[1;33m)\u001b[0m\u001b[1;33m]\u001b[0m\u001b[1;33m-\u001b[0m\u001b[0mdoomsd1\u001b[0m\u001b[1;33m[\u001b[0m\u001b[0mstr\u001b[0m\u001b[1;33m(\u001b[0m\u001b[0mmonth\u001b[0m\u001b[1;33m-\u001b[0m\u001b[1;36m1\u001b[0m\u001b[1;33m)\u001b[0m\u001b[1;33m]\u001b[0m\u001b[1;33m+\u001b[0m\u001b[0mday\u001b[0m\u001b[1;33m)\u001b[0m\u001b[1;33m\u001b[0m\u001b[0m\n\u001b[1;32m---> 26\u001b[1;33m     \u001b[1;32mreturn\u001b[0m \u001b[0mweek\u001b[0m\u001b[1;33m[\u001b[0m\u001b[0mdoomsday\u001b[0m\u001b[1;33m(\u001b[0m\u001b[0myear\u001b[0m\u001b[1;33m)\u001b[0m\u001b[1;33m+\u001b[0m\u001b[0mdaysoff\u001b[0m\u001b[1;33m%\u001b[0m\u001b[1;36m7\u001b[0m\u001b[1;33m]\u001b[0m\u001b[1;33m\u001b[0m\u001b[0m\n\u001b[0m\u001b[0;32m     27\u001b[0m \u001b[0mdayofweek\u001b[0m\u001b[1;33m(\u001b[0m\u001b[1;36m7\u001b[0m\u001b[1;33m,\u001b[0m\u001b[1;36m21\u001b[0m\u001b[1;33m,\u001b[0m\u001b[1;36m1954\u001b[0m\u001b[1;33m)\u001b[0m\u001b[1;33m\u001b[0m\u001b[0m\n\u001b[0;32m     28\u001b[0m \u001b[0mdayofweek\u001b[0m\u001b[1;33m(\u001b[0m\u001b[1;36m1\u001b[0m\u001b[1;33m,\u001b[0m\u001b[1;36m13\u001b[0m\u001b[1;33m,\u001b[0m\u001b[1;36m1999\u001b[0m\u001b[1;33m)\u001b[0m\u001b[1;33m\u001b[0m\u001b[0m\n",
      "\u001b[1;31mIndexError\u001b[0m: list index out of range"
     ]
    }
   ],
   "source": [
    "allmonth=[1,2,3,4,5,6,7,8,9,10,11,12]\n",
    "allyear=range(1900,2000)\n",
    "#[[dayofweek(item,13,item2)for item in allmonth]for item2 in allyear] #why cannot be a space between ) and for? \n",
    "[dayofweek(item,13,1999)for item in allmonth].count('Fri')\n",
    "othercenturies=[range(1500,1600),range(1600,1700),range(1700,1800)]"
   ]
  },
  {
   "cell_type": "markdown",
   "metadata": {
    "name": "ex1.5"
   },
   "source": [
    "__Exercise 1.5.__ How many times did Friday the 13th occur between the year 2000 and today?"
   ]
  },
  {
   "cell_type": "code",
   "execution_count": 272,
   "metadata": {},
   "outputs": [],
   "source": [
    "time=range(2000,2019)\n",
    "#[[dayofweek(item,13,item2)for item in allmonth]for item2 in time] "
   ]
  },
  {
   "cell_type": "markdown",
   "metadata": {
    "name": "ex2.1"
   },
   "source": [
    "## Part 2: 1978 Birthdays\n",
    "\n",
    "__Exercise 2.1.__ The file `birthdays.txt` contains the number of births in the United States for each day in 1978. Inspect the file to determine the format. Note that columns are separated by the tab character, which can be entered in Python as `\\t`. Write a function that uses iterators and list comprehensions with the string methods `split()` and `strip()` to  convert each line of data to the list format\n",
    "\n",
    "```Python\n",
    "[month, day, year, count]\n",
    "```\n",
    "The elements of this list should be integers, not strings. The function `read_birthdays` provided below will help you load the file."
   ]
  },
  {
   "cell_type": "code",
   "execution_count": 178,
   "metadata": {
    "name": "fill2"
   },
   "outputs": [],
   "source": [
    "def read_birthdays(file_path):\n",
    "    \"\"\"Read the contents of the birthdays file into a string.\n",
    "    \n",
    "    Arguments:\n",
    "        file_path (string): The path to the birthdays file.\n",
    "        \n",
    "    Returns:\n",
    "        string: The contents of the birthdays file.\n",
    "    \"\"\"\n",
    "    with open(file_path) as file:\n",
    "        return file.read()"
   ]
  },
  {
   "cell_type": "code",
   "execution_count": 155,
   "metadata": {},
   "outputs": [
    {
     "data": {
      "text/plain": [
       "[[1, 1, 78, 7701],\n",
       " [1, 2, 78, 7527],\n",
       " [1, 3, 78, 8825],\n",
       " [1, 4, 78, 8859],\n",
       " [1, 5, 78, 9043],\n",
       " [1, 6, 78, 9208],\n",
       " [1, 7, 78, 8084],\n",
       " [1, 8, 78, 7611],\n",
       " [1, 9, 78, 9172],\n",
       " [1, 10, 78, 9089],\n",
       " [1, 11, 78, 9210],\n",
       " [1, 12, 78, 9259],\n",
       " [1, 13, 78, 9138],\n",
       " [1, 14, 78, 8299],\n",
       " [1, 15, 78, 7771],\n",
       " [1, 16, 78, 9458],\n",
       " [1, 17, 78, 9339],\n",
       " [1, 18, 78, 9120],\n",
       " [1, 19, 78, 9226],\n",
       " [1, 20, 78, 9305],\n",
       " [1, 21, 78, 7954],\n",
       " [1, 22, 78, 7560],\n",
       " [1, 23, 78, 9252],\n",
       " [1, 24, 78, 9416],\n",
       " [1, 25, 78, 9090],\n",
       " [1, 26, 78, 9387],\n",
       " [1, 27, 78, 8983],\n",
       " [1, 28, 78, 7946],\n",
       " [1, 29, 78, 7527],\n",
       " [1, 30, 78, 9184],\n",
       " [1, 31, 78, 9152],\n",
       " [2, 1, 78, 9159],\n",
       " [2, 2, 78, 9218],\n",
       " [2, 3, 78, 9167],\n",
       " [2, 4, 78, 8065],\n",
       " [2, 5, 78, 7804],\n",
       " [2, 6, 78, 9225],\n",
       " [2, 7, 78, 9328],\n",
       " [2, 8, 78, 9139],\n",
       " [2, 9, 78, 9247],\n",
       " [2, 10, 78, 9527],\n",
       " [2, 11, 78, 8144],\n",
       " [2, 12, 78, 7950],\n",
       " [2, 13, 78, 8966],\n",
       " [2, 14, 78, 9859],\n",
       " [2, 15, 78, 9285],\n",
       " [2, 16, 78, 9103],\n",
       " [2, 17, 78, 9238],\n",
       " [2, 18, 78, 8167],\n",
       " [2, 19, 78, 7695],\n",
       " [2, 20, 78, 9021],\n",
       " [2, 21, 78, 9252],\n",
       " [2, 22, 78, 9335],\n",
       " [2, 23, 78, 9268],\n",
       " [2, 24, 78, 9552],\n",
       " [2, 25, 78, 8313],\n",
       " [2, 26, 78, 7881],\n",
       " [2, 27, 78, 9262],\n",
       " [2, 28, 78, 9705],\n",
       " [3, 1, 78, 9132],\n",
       " [3, 2, 78, 9304],\n",
       " [3, 3, 78, 9431],\n",
       " [3, 4, 78, 8008],\n",
       " [3, 5, 78, 7791],\n",
       " [3, 6, 78, 9294],\n",
       " [3, 7, 78, 9573],\n",
       " [3, 8, 78, 9212],\n",
       " [3, 9, 78, 9218],\n",
       " [3, 10, 78, 9583],\n",
       " [3, 11, 78, 8144],\n",
       " [3, 12, 78, 7870],\n",
       " [3, 13, 78, 9022],\n",
       " [3, 14, 78, 9525],\n",
       " [3, 15, 78, 9284],\n",
       " [3, 16, 78, 9327],\n",
       " [3, 17, 78, 9480],\n",
       " [3, 18, 78, 7965],\n",
       " [3, 19, 78, 7729],\n",
       " [3, 20, 78, 9135],\n",
       " [3, 21, 78, 9663],\n",
       " [3, 22, 78, 9307],\n",
       " [3, 23, 78, 9159],\n",
       " [3, 24, 78, 9157],\n",
       " [3, 25, 78, 7874],\n",
       " [3, 26, 78, 7589],\n",
       " [3, 27, 78, 9100],\n",
       " [3, 28, 78, 9293],\n",
       " [3, 29, 78, 9195],\n",
       " [3, 30, 78, 8902],\n",
       " [3, 31, 78, 9318],\n",
       " [4, 1, 78, 8069],\n",
       " [4, 2, 78, 7691],\n",
       " [4, 3, 78, 9114],\n",
       " [4, 4, 78, 9439],\n",
       " [4, 5, 78, 8852],\n",
       " [4, 6, 78, 8969],\n",
       " [4, 7, 78, 9077],\n",
       " [4, 8, 78, 7890],\n",
       " [4, 9, 78, 7445],\n",
       " [4, 10, 78, 8870],\n",
       " [4, 11, 78, 9023],\n",
       " [4, 12, 78, 8606],\n",
       " [4, 13, 78, 8724],\n",
       " [4, 14, 78, 9012],\n",
       " [4, 15, 78, 7527],\n",
       " [4, 16, 78, 7193],\n",
       " [4, 17, 78, 8702],\n",
       " [4, 18, 78, 9205],\n",
       " [4, 19, 78, 8720],\n",
       " [4, 20, 78, 8582],\n",
       " [4, 21, 78, 8892],\n",
       " [4, 22, 78, 7787],\n",
       " [4, 23, 78, 7304],\n",
       " [4, 24, 78, 9017],\n",
       " [4, 25, 78, 9077],\n",
       " [4, 26, 78, 9019],\n",
       " [4, 27, 78, 8839],\n",
       " [4, 28, 78, 9047],\n",
       " [4, 29, 78, 7750],\n",
       " [4, 30, 78, 7135],\n",
       " [5, 1, 78, 8900],\n",
       " [5, 2, 78, 9422],\n",
       " [5, 3, 78, 9051],\n",
       " [5, 4, 78, 8672],\n",
       " [5, 5, 78, 9101],\n",
       " [5, 6, 78, 7718],\n",
       " [5, 7, 78, 7388],\n",
       " [5, 8, 78, 8987],\n",
       " [5, 9, 78, 9307],\n",
       " [5, 10, 78, 9273],\n",
       " [5, 11, 78, 8903],\n",
       " [5, 12, 78, 8975],\n",
       " [5, 13, 78, 7762],\n",
       " [5, 14, 78, 7382],\n",
       " [5, 15, 78, 9195],\n",
       " [5, 16, 78, 9200],\n",
       " [5, 17, 78, 8913],\n",
       " [5, 18, 78, 9044],\n",
       " [5, 19, 78, 9000],\n",
       " [5, 20, 78, 8064],\n",
       " [5, 21, 78, 7570],\n",
       " [5, 22, 78, 9089],\n",
       " [5, 23, 78, 9210],\n",
       " [5, 24, 78, 9196],\n",
       " [5, 25, 78, 9180],\n",
       " [5, 26, 78, 9514],\n",
       " [5, 27, 78, 8005],\n",
       " [5, 28, 78, 7781],\n",
       " [5, 29, 78, 7780],\n",
       " [5, 30, 78, 9630],\n",
       " [5, 31, 78, 9600],\n",
       " [6, 1, 78, 9435],\n",
       " [6, 2, 78, 9303],\n",
       " [6, 3, 78, 7971],\n",
       " [6, 4, 78, 7399],\n",
       " [6, 5, 78, 9127],\n",
       " [6, 6, 78, 9606],\n",
       " [6, 7, 78, 9328],\n",
       " [6, 8, 78, 9075],\n",
       " [6, 9, 78, 9362],\n",
       " [6, 10, 78, 8040],\n",
       " [6, 11, 78, 7581],\n",
       " [6, 12, 78, 9201],\n",
       " [6, 13, 78, 9264],\n",
       " [6, 14, 78, 9216],\n",
       " [6, 15, 78, 9175],\n",
       " [6, 16, 78, 9350],\n",
       " [6, 17, 78, 8233],\n",
       " [6, 18, 78, 7777],\n",
       " [6, 19, 78, 9543],\n",
       " [6, 20, 78, 9672],\n",
       " [6, 21, 78, 9266],\n",
       " [6, 22, 78, 9405],\n",
       " [6, 23, 78, 9598],\n",
       " [6, 24, 78, 8122],\n",
       " [6, 25, 78, 8091],\n",
       " [6, 26, 78, 9348],\n",
       " [6, 27, 78, 9857],\n",
       " [6, 28, 78, 9701],\n",
       " [6, 29, 78, 9630],\n",
       " [6, 30, 78, 10080],\n",
       " [7, 1, 78, 8209],\n",
       " [7, 2, 78, 7976],\n",
       " [7, 3, 78, 9284],\n",
       " [7, 4, 78, 8433],\n",
       " [7, 5, 78, 9675],\n",
       " [7, 6, 78, 10184],\n",
       " [7, 7, 78, 10241],\n",
       " [7, 8, 78, 8773],\n",
       " [7, 9, 78, 8102],\n",
       " [7, 10, 78, 9877],\n",
       " [7, 11, 78, 9852],\n",
       " [7, 12, 78, 9705],\n",
       " [7, 13, 78, 9984],\n",
       " [7, 14, 78, 10438],\n",
       " [7, 15, 78, 8859],\n",
       " [7, 16, 78, 8416],\n",
       " [7, 17, 78, 10026],\n",
       " [7, 18, 78, 10357],\n",
       " [7, 19, 78, 10015],\n",
       " [7, 20, 78, 10386],\n",
       " [7, 21, 78, 10332],\n",
       " [7, 22, 78, 9062],\n",
       " [7, 23, 78, 8563],\n",
       " [7, 24, 78, 9960],\n",
       " [7, 25, 78, 10349],\n",
       " [7, 26, 78, 10091],\n",
       " [7, 27, 78, 10192],\n",
       " [7, 28, 78, 10307],\n",
       " [7, 29, 78, 8677],\n",
       " [7, 30, 78, 8486],\n",
       " [7, 31, 78, 9890],\n",
       " [8, 1, 78, 10145],\n",
       " [8, 2, 78, 9824],\n",
       " [8, 3, 78, 10128],\n",
       " [8, 4, 78, 10051],\n",
       " [8, 5, 78, 8738],\n",
       " [8, 6, 78, 8442],\n",
       " [8, 7, 78, 10206],\n",
       " [8, 8, 78, 10442],\n",
       " [8, 9, 78, 10142],\n",
       " [8, 10, 78, 10284],\n",
       " [8, 11, 78, 10162],\n",
       " [8, 12, 78, 8951],\n",
       " [8, 13, 78, 8532],\n",
       " [8, 14, 78, 10127],\n",
       " [8, 15, 78, 10502],\n",
       " [8, 16, 78, 10053],\n",
       " [8, 17, 78, 10377],\n",
       " [8, 18, 78, 10355],\n",
       " [8, 19, 78, 8904],\n",
       " [8, 20, 78, 8477],\n",
       " [8, 21, 78, 9967],\n",
       " [8, 22, 78, 10229],\n",
       " [8, 23, 78, 9900],\n",
       " [8, 24, 78, 10152],\n",
       " [8, 25, 78, 10173],\n",
       " [8, 26, 78, 8782],\n",
       " [8, 27, 78, 8453],\n",
       " [8, 28, 78, 9998],\n",
       " [8, 29, 78, 10387],\n",
       " [8, 30, 78, 10063],\n",
       " [8, 31, 78, 9849],\n",
       " [9, 1, 78, 10114],\n",
       " [9, 2, 78, 8580],\n",
       " [9, 3, 78, 8355],\n",
       " [9, 4, 78, 8481],\n",
       " [9, 5, 78, 10023],\n",
       " [9, 6, 78, 10703],\n",
       " [9, 7, 78, 10292],\n",
       " [9, 8, 78, 10371],\n",
       " [9, 9, 78, 9023],\n",
       " [9, 10, 78, 8630],\n",
       " [9, 11, 78, 10154],\n",
       " [9, 12, 78, 10425],\n",
       " [9, 13, 78, 10149],\n",
       " [9, 14, 78, 10265],\n",
       " [9, 15, 78, 10265],\n",
       " [9, 16, 78, 9170],\n",
       " [9, 17, 78, 8711],\n",
       " [9, 18, 78, 10304],\n",
       " [9, 19, 78, 10711],\n",
       " [9, 20, 78, 10488],\n",
       " [9, 21, 78, 10499],\n",
       " [9, 22, 78, 10349],\n",
       " [9, 23, 78, 8735],\n",
       " [9, 24, 78, 8647],\n",
       " [9, 25, 78, 10414],\n",
       " [9, 26, 78, 10498],\n",
       " [9, 27, 78, 10344],\n",
       " [9, 28, 78, 10175],\n",
       " [9, 29, 78, 10368],\n",
       " [9, 30, 78, 8648],\n",
       " [10, 1, 78, 8686],\n",
       " [10, 2, 78, 9927],\n",
       " [10, 3, 78, 10378],\n",
       " [10, 4, 78, 9928],\n",
       " [10, 5, 78, 9949],\n",
       " [10, 6, 78, 10052],\n",
       " [10, 7, 78, 8605],\n",
       " [10, 8, 78, 8377],\n",
       " [10, 9, 78, 9765],\n",
       " [10, 10, 78, 10351],\n",
       " [10, 11, 78, 9873],\n",
       " [10, 12, 78, 9824],\n",
       " [10, 13, 78, 9755],\n",
       " [10, 14, 78, 8554],\n",
       " [10, 15, 78, 7873],\n",
       " [10, 16, 78, 9531],\n",
       " [10, 17, 78, 9938],\n",
       " [10, 18, 78, 9388],\n",
       " [10, 19, 78, 9502],\n",
       " [10, 20, 78, 9625],\n",
       " [10, 21, 78, 8411],\n",
       " [10, 22, 78, 7936],\n",
       " [10, 23, 78, 9425],\n",
       " [10, 24, 78, 9576],\n",
       " [10, 25, 78, 9328],\n",
       " [10, 26, 78, 9501],\n",
       " [10, 27, 78, 9537],\n",
       " [10, 28, 78, 8415],\n",
       " [10, 29, 78, 8155],\n",
       " [10, 30, 78, 9457],\n",
       " [10, 31, 78, 9333],\n",
       " [11, 1, 78, 9321],\n",
       " [11, 2, 78, 9245],\n",
       " [11, 3, 78, 9774],\n",
       " [11, 4, 78, 8246],\n",
       " [11, 5, 78, 8011],\n",
       " [11, 6, 78, 9507],\n",
       " [11, 7, 78, 9769],\n",
       " [11, 8, 78, 9501],\n",
       " [11, 9, 78, 9609],\n",
       " [11, 10, 78, 9652],\n",
       " [11, 11, 78, 8352],\n",
       " [11, 12, 78, 7967],\n",
       " [11, 13, 78, 9606],\n",
       " [11, 14, 78, 10014],\n",
       " [11, 15, 78, 9536],\n",
       " [11, 16, 78, 9568],\n",
       " [11, 17, 78, 9835],\n",
       " [11, 18, 78, 8432],\n",
       " [11, 19, 78, 7868],\n",
       " [11, 20, 78, 9592],\n",
       " [11, 21, 78, 9950],\n",
       " [11, 22, 78, 9548],\n",
       " [11, 23, 78, 7915],\n",
       " [11, 24, 78, 9037],\n",
       " [11, 25, 78, 8275],\n",
       " [11, 26, 78, 8068],\n",
       " [11, 27, 78, 9825],\n",
       " [11, 28, 78, 9814],\n",
       " [11, 29, 78, 9438],\n",
       " [11, 30, 78, 9396],\n",
       " [12, 1, 78, 9592],\n",
       " [12, 2, 78, 8528],\n",
       " [12, 3, 78, 8196],\n",
       " [12, 4, 78, 9767],\n",
       " [12, 5, 78, 9881],\n",
       " [12, 6, 78, 9402],\n",
       " [12, 7, 78, 9480],\n",
       " [12, 8, 78, 9398],\n",
       " [12, 9, 78, 8335],\n",
       " [12, 10, 78, 8093],\n",
       " [12, 11, 78, 9686],\n",
       " [12, 12, 78, 10063],\n",
       " [12, 13, 78, 9509],\n",
       " [12, 14, 78, 9524],\n",
       " [12, 15, 78, 9951],\n",
       " [12, 16, 78, 8507],\n",
       " [12, 17, 78, 8172],\n",
       " [12, 18, 78, 10196],\n",
       " [12, 19, 78, 10605],\n",
       " [12, 20, 78, 9998],\n",
       " [12, 21, 78, 9398],\n",
       " [12, 22, 78, 9008],\n",
       " [12, 23, 78, 7939],\n",
       " [12, 24, 78, 7964],\n",
       " [12, 25, 78, 7846],\n",
       " [12, 26, 78, 8902],\n",
       " [12, 27, 78, 9907],\n",
       " [12, 28, 78, 10177],\n",
       " [12, 29, 78, 10401],\n",
       " [12, 30, 78, 8474],\n",
       " [12, 31, 78, 8028]]"
      ]
     },
     "execution_count": 155,
     "metadata": {},
     "output_type": "execute_result"
    }
   ],
   "source": [
    "def format_convert(birthstring=read_birthdays(\"birthdays.txt\")):\n",
    "    splitline=birthstring.strip().split(\"\\n\")[6:]\n",
    "    splitcount=[item.replace('\\t','/').split('/') for item in splitline]\n",
    "    count=[[int(element) for element in item] for item in splitcount]\n",
    "    return count\n",
    "format_convert()"
   ]
  },
  {
   "cell_type": "markdown",
   "metadata": {
    "name": "ex2.2"
   },
   "source": [
    "__Exercise 2.2.__ Which month had the most births in 1978? Which day of the week had the most births? Which day of the week had the fewest? What conclusions can you draw? You may find the `Counter` class in the `collections` module useful."
   ]
  },
  {
   "cell_type": "code",
   "execution_count": 297,
   "metadata": {},
   "outputs": [
    {
     "ename": "IndexError",
     "evalue": "list index out of range",
     "output_type": "error",
     "traceback": [
      "\u001b[1;31m---------------------------------------------------------------------------\u001b[0m",
      "\u001b[1;31mIndexError\u001b[0m                                Traceback (most recent call last)",
      "\u001b[1;32m<ipython-input-297-81ad56725e80>\u001b[0m in \u001b[0;36m<module>\u001b[1;34m()\u001b[0m\n\u001b[0;32m      7\u001b[0m \u001b[1;33m[\u001b[0m\u001b[0mitem\u001b[0m\u001b[1;33m.\u001b[0m\u001b[0mmost_common\u001b[0m\u001b[1;33m(\u001b[0m\u001b[1;36m12\u001b[0m\u001b[1;33m)\u001b[0m \u001b[1;32mfor\u001b[0m \u001b[0mitem\u001b[0m \u001b[1;32min\u001b[0m \u001b[0mconvertcounter2\u001b[0m\u001b[1;33m]\u001b[0m\u001b[1;33m\u001b[0m\u001b[0m\n\u001b[0;32m      8\u001b[0m \u001b[1;33m\u001b[0m\u001b[0m\n\u001b[1;32m----> 9\u001b[1;33m \u001b[1;33m[\u001b[0m\u001b[0mdayofweek\u001b[0m\u001b[1;33m(\u001b[0m\u001b[0mitem\u001b[0m\u001b[1;33m[\u001b[0m\u001b[1;36m0\u001b[0m\u001b[1;33m]\u001b[0m\u001b[1;33m,\u001b[0m\u001b[0mitem\u001b[0m\u001b[1;33m[\u001b[0m\u001b[1;36m1\u001b[0m\u001b[1;33m]\u001b[0m\u001b[1;33m,\u001b[0m\u001b[0mint\u001b[0m\u001b[1;33m(\u001b[0m\u001b[1;34m'19'\u001b[0m\u001b[1;33m+\u001b[0m\u001b[0mstr\u001b[0m\u001b[1;33m(\u001b[0m\u001b[0mitem\u001b[0m\u001b[1;33m[\u001b[0m\u001b[1;36m2\u001b[0m\u001b[1;33m]\u001b[0m\u001b[1;33m)\u001b[0m\u001b[1;33m)\u001b[0m\u001b[1;33m)\u001b[0m\u001b[1;32mfor\u001b[0m \u001b[0mitem\u001b[0m \u001b[1;32min\u001b[0m \u001b[0mdata\u001b[0m\u001b[1;33m]\u001b[0m \u001b[1;31m#not working\u001b[0m\u001b[1;33m\u001b[0m\u001b[0m\n\u001b[0m\u001b[0;32m     10\u001b[0m \u001b[1;32mfor\u001b[0m \u001b[0mi\u001b[0m \u001b[1;32min\u001b[0m \u001b[0mformat_convert\u001b[0m\u001b[1;33m:\u001b[0m\u001b[1;33m\u001b[0m\u001b[0m\n\u001b[0;32m     11\u001b[0m     \u001b[0mdayofweek\u001b[0m\u001b[1;33m(\u001b[0m\u001b[0mitem\u001b[0m\u001b[1;33m[\u001b[0m\u001b[1;36m0\u001b[0m\u001b[1;33m]\u001b[0m\u001b[1;33m,\u001b[0m\u001b[0mitem\u001b[0m\u001b[1;33m[\u001b[0m\u001b[1;36m1\u001b[0m\u001b[1;33m]\u001b[0m\u001b[1;33m,\u001b[0m\u001b[0mint\u001b[0m\u001b[1;33m(\u001b[0m\u001b[1;34m'19'\u001b[0m\u001b[1;33m+\u001b[0m\u001b[0mstr\u001b[0m\u001b[1;33m(\u001b[0m\u001b[0mitem\u001b[0m\u001b[1;33m[\u001b[0m\u001b[1;36m2\u001b[0m\u001b[1;33m]\u001b[0m\u001b[1;33m)\u001b[0m\u001b[1;33m)\u001b[0m\u001b[1;33m)\u001b[0m\u001b[1;33m\u001b[0m\u001b[0m\n",
      "\u001b[1;32m<ipython-input-253-189cfeefb543>\u001b[0m in \u001b[0;36mdayofweek\u001b[1;34m(month, day, year)\u001b[0m\n\u001b[0;32m     24\u001b[0m         \u001b[1;32melse\u001b[0m\u001b[1;33m:\u001b[0m\u001b[1;33m\u001b[0m\u001b[0m\n\u001b[0;32m     25\u001b[0m             \u001b[0mdaysoff\u001b[0m\u001b[1;33m=\u001b[0m\u001b[0mmin\u001b[0m\u001b[1;33m(\u001b[0m\u001b[0mabs\u001b[0m\u001b[1;33m(\u001b[0m\u001b[0mdoomsd1\u001b[0m\u001b[1;33m[\u001b[0m\u001b[0mstr\u001b[0m\u001b[1;33m(\u001b[0m\u001b[0mmonth\u001b[0m\u001b[1;33m)\u001b[0m\u001b[1;33m]\u001b[0m\u001b[1;33m-\u001b[0m\u001b[0mday\u001b[0m\u001b[1;33m)\u001b[0m\u001b[1;33m,\u001b[0m \u001b[0mmonthlength1\u001b[0m\u001b[1;33m[\u001b[0m\u001b[0mstr\u001b[0m\u001b[1;33m(\u001b[0m\u001b[0mmonth\u001b[0m\u001b[1;33m)\u001b[0m\u001b[1;33m]\u001b[0m\u001b[1;33m-\u001b[0m\u001b[0mday\u001b[0m\u001b[1;33m+\u001b[0m\u001b[0mdoomsd1\u001b[0m\u001b[1;33m[\u001b[0m\u001b[0mstr\u001b[0m\u001b[1;33m(\u001b[0m\u001b[0mmonth\u001b[0m\u001b[1;33m+\u001b[0m\u001b[1;36m1\u001b[0m\u001b[1;33m)\u001b[0m\u001b[1;33m]\u001b[0m\u001b[1;33m,\u001b[0m\u001b[0mmonthlength1\u001b[0m\u001b[1;33m[\u001b[0m\u001b[0mstr\u001b[0m\u001b[1;33m(\u001b[0m\u001b[0mmonth\u001b[0m\u001b[1;33m-\u001b[0m\u001b[1;36m1\u001b[0m\u001b[1;33m)\u001b[0m\u001b[1;33m]\u001b[0m\u001b[1;33m-\u001b[0m\u001b[0mdoomsd1\u001b[0m\u001b[1;33m[\u001b[0m\u001b[0mstr\u001b[0m\u001b[1;33m(\u001b[0m\u001b[0mmonth\u001b[0m\u001b[1;33m-\u001b[0m\u001b[1;36m1\u001b[0m\u001b[1;33m)\u001b[0m\u001b[1;33m]\u001b[0m\u001b[1;33m+\u001b[0m\u001b[0mday\u001b[0m\u001b[1;33m)\u001b[0m\u001b[1;33m\u001b[0m\u001b[0m\n\u001b[1;32m---> 26\u001b[1;33m     \u001b[1;32mreturn\u001b[0m \u001b[0mweek\u001b[0m\u001b[1;33m[\u001b[0m\u001b[0mdoomsday\u001b[0m\u001b[1;33m(\u001b[0m\u001b[0myear\u001b[0m\u001b[1;33m)\u001b[0m\u001b[1;33m+\u001b[0m\u001b[0mdaysoff\u001b[0m\u001b[1;33m%\u001b[0m\u001b[1;36m7\u001b[0m\u001b[1;33m]\u001b[0m\u001b[1;33m\u001b[0m\u001b[0m\n\u001b[0m\u001b[0;32m     27\u001b[0m \u001b[0mdayofweek\u001b[0m\u001b[1;33m(\u001b[0m\u001b[1;36m7\u001b[0m\u001b[1;33m,\u001b[0m\u001b[1;36m21\u001b[0m\u001b[1;33m,\u001b[0m\u001b[1;36m1954\u001b[0m\u001b[1;33m)\u001b[0m\u001b[1;33m\u001b[0m\u001b[0m\n\u001b[0;32m     28\u001b[0m \u001b[0mdayofweek\u001b[0m\u001b[1;33m(\u001b[0m\u001b[1;36m1\u001b[0m\u001b[1;33m,\u001b[0m\u001b[1;36m13\u001b[0m\u001b[1;33m,\u001b[0m\u001b[1;36m1999\u001b[0m\u001b[1;33m)\u001b[0m\u001b[1;33m\u001b[0m\u001b[0m\n",
      "\u001b[1;31mIndexError\u001b[0m: list index out of range"
     ]
    }
   ],
   "source": [
    "from collections import Counter\n",
    "data=format_convert()\n",
    "monthdiction=[{item[0]:item[3]} for item in data]\n",
    "convertcounter=[Counter(item)for item in monthdiction]\n",
    "convertcounter2=[sum(convertcounter, Counter())for item in convertcounter] #how does counter work? #why result ws repeated? \n",
    "convertcounter2\n",
    "[item.most_common(12) for item in convertcounter2]\n",
    "\n",
    "[dayofweek(item[0],item[1],int('19'+str(item[2])))for item in data] #not working\n",
    "#for i in format_convert:\n",
    "\n",
    "#insert the day into the list \n",
    "monthdiction2=[{item[4]:item[3]} for item in data]\n",
    "convertcounter=[Counter(item)for item in monthdiction]\n",
    "convertcounter2=[sum(convertcounter, Counter())for item in convertcounter] #how does counter work? #why result ws repeated? \n",
    "\n"
   ]
  },
  {
   "cell_type": "markdown",
   "metadata": {},
   "source": [
    "__Exercise 2.3.__ What would be an effective way to present the information in exercise 2.2? You don't need to write any code for this exercise, just discuss what you would do."
   ]
  },
  {
   "cell_type": "code",
   "execution_count": null,
   "metadata": {},
   "outputs": [],
   "source": [
    "Line graph"
   ]
  }
 ],
 "metadata": {
  "anaconda-cloud": {},
  "kernelspec": {
   "display_name": "Python 3",
   "language": "python",
   "name": "python3"
  },
  "language_info": {
   "codemirror_mode": {
    "name": "ipython",
    "version": 2
   },
   "file_extension": ".py",
   "mimetype": "text/x-python",
   "name": "python",
   "nbconvert_exporter": "python",
   "pygments_lexer": "ipython2",
   "version": "2.7.12"
  }
 },
 "nbformat": 4,
 "nbformat_minor": 2
}
